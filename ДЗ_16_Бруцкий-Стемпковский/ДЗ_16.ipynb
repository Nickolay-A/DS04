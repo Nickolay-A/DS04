{
 "cells": [
  {
   "attachments": {},
   "cell_type": "markdown",
   "metadata": {},
   "source": [
    "Добрый день.\n",
    "\n",
    "Многоклассовая классификация\n",
    "\n",
    "1. загрузите из sklearn датасет с цифрами (каждый элемент кодирует изображение цифры размером 8х8)\n",
    "2. Осмотрите данные и метки.\n",
    "3. попробуйте отобразить любое единичное изображение из набора с помощью matplotlib.\n",
    "4. Примените тетрадку с прошлого урока к загруженному датасету в части многоклассовой классификации. \n",
    "5. Рассмотрите матрицу неточностей, сделайте выводы какие цифры классификатор принимает за другие наиболее часто.\n",
    "6. Сравните качество стратегий OvR и OvO.\n",
    "\n",
    "\n",
    "Логистическая регрессия\n",
    "\n",
    "1. Возьмите датасет с данными по телефонной компании с прошлых уроков.\n",
    "2. Подготовьте данные для обучения.\n",
    "3. Нормализуйте данные с помощью MinMaxScaler (рассматривали в конце прошлого урока)\n",
    "4. Обучите логистическую регрессию на нормированных данных.\n",
    "5. Посчитайте метрики на тестовом и обучающем множествах."
   ]
  },
  {
   "cell_type": "code",
   "execution_count": 99,
   "metadata": {},
   "outputs": [],
   "source": [
    "import pandas as pd\n",
    "import numpy as np\n",
    "import matplotlib.pyplot as plt\n",
    "import seaborn as sns\n",
    "\n",
    "from sklearn.datasets import load_digits\n",
    "from sklearn.model_selection import train_test_split\n",
    "from sklearn.linear_model import SGDClassifier\n",
    "from sklearn.multiclass import OneVsRestClassifier, OneVsOneClassifier\n",
    "from sklearn.metrics import confusion_matrix, precision_score, \\\n",
    "              recall_score, f1_score"
   ]
  },
  {
   "attachments": {},
   "cell_type": "markdown",
   "metadata": {},
   "source": [
    "Загрузим данные."
   ]
  },
  {
   "cell_type": "code",
   "execution_count": 100,
   "metadata": {},
   "outputs": [],
   "source": [
    "data = load_digits()"
   ]
  },
  {
   "cell_type": "code",
   "execution_count": 101,
   "metadata": {},
   "outputs": [
    {
     "data": {
      "text/plain": [
       "dict_keys(['data', 'target', 'frame', 'feature_names', 'target_names', 'images', 'DESCR'])"
      ]
     },
     "execution_count": 101,
     "metadata": {},
     "output_type": "execute_result"
    }
   ],
   "source": [
    "data.keys()"
   ]
  },
  {
   "cell_type": "code",
   "execution_count": 102,
   "metadata": {},
   "outputs": [
    {
     "data": {
      "text/plain": [
       "(1797, 64)"
      ]
     },
     "execution_count": 102,
     "metadata": {},
     "output_type": "execute_result"
    }
   ],
   "source": [
    "data.data.shape"
   ]
  },
  {
   "attachments": {},
   "cell_type": "markdown",
   "metadata": {},
   "source": [
    "Данные представлят собой словарь с ключами.\n",
    " - data - сами данные. Матрица. 1797 строк. 64 столбца. В строку выписаны по порядку значения из сетки начиная с первой строки. \n",
    " Само изоржение однослойное  таком случае.\n",
    " - target - вектор знчений. Содержит \"ответ\" - то, что закодировано в изображении\n",
    " - images - трехмерный массив изображений. содержит 1797 матриц 8*8.\n",
    "\n",
    "По другим ключам по существу интересного ничего нет..."
   ]
  },
  {
   "cell_type": "code",
   "execution_count": 103,
   "metadata": {},
   "outputs": [
    {
     "data": {
      "image/png": "[encoded data removed]",
      "text/plain": [
       "<Figure size 640x480 with 1 Axes>"
      ]
     },
     "metadata": {},
     "output_type": "display_data"
    }
   ],
   "source": [
    "plt.imshow(data.images[211]);"
   ]
  },
  {
   "cell_type": "code",
   "execution_count": 104,
   "metadata": {},
   "outputs": [
    {
     "data": {
      "image/png": "[encoded data removed]",
      "text/plain": [
       "<Figure size 640x480 with 1 Axes>"
      ]
     },
     "metadata": {},
     "output_type": "display_data"
    }
   ],
   "source": [
    "plt.imshow(data.data[211].reshape(1, -1));"
   ]
  },
  {
   "cell_type": "code",
   "execution_count": 105,
   "metadata": {},
   "outputs": [
    {
     "data": {
      "text/plain": [
       "7"
      ]
     },
     "execution_count": 105,
     "metadata": {},
     "output_type": "execute_result"
    }
   ],
   "source": [
    "data.target[211]"
   ]
  },
  {
   "attachments": {},
   "cell_type": "markdown",
   "metadata": {},
   "source": [
    "Слабо похоже, но это 7..."
   ]
  },
  {
   "cell_type": "code",
   "execution_count": 106,
   "metadata": {},
   "outputs": [
    {
     "data": {
      "text/plain": [
       "<AxesSubplot:>"
      ]
     },
     "execution_count": 106,
     "metadata": {},
     "output_type": "execute_result"
    },
    {
     "data": {
      "image/png": "[encoded data removed]",
      "text/plain": [
       "<Figure size 640x480 with 1 Axes>"
      ]
     },
     "metadata": {},
     "output_type": "display_data"
    }
   ],
   "source": [
    "pd.Series(data.target).hist()"
   ]
  },
  {
   "attachments": {},
   "cell_type": "markdown",
   "metadata": {},
   "source": [
    "Все данные валидны и их много. Перекоса в классах у нас нет, что также хорошо\n",
    "\n",
    "Разделим на тренировочную и тестовую выборки в соотношении 80/20."
   ]
  },
  {
   "cell_type": "code",
   "execution_count": 107,
   "metadata": {},
   "outputs": [],
   "source": [
    "x_train, x_test, y_train, y_test = train_test_split(data.data, data.target, test_size=0.8, random_state=1)"
   ]
  },
  {
   "attachments": {},
   "cell_type": "markdown",
   "metadata": {},
   "source": [
    "Поработаем с этими данными многоклассовым классификатором SGD с применением стратегий OvO и OvR."
   ]
  },
  {
   "cell_type": "code",
   "execution_count": 108,
   "metadata": {},
   "outputs": [],
   "source": [
    "ovoSGD = OneVsOneClassifier(SGDClassifier(random_state=1))\n",
    "ovrSGD = OneVsRestClassifier(SGDClassifier(random_state=1))"
   ]
  },
  {
   "cell_type": "code",
   "execution_count": 109,
   "metadata": {},
   "outputs": [],
   "source": [
    "ovoSGD.fit(x_train, y_train)\n",
    "ovrSGD.fit(x_train, y_train);"
   ]
  },
  {
   "attachments": {},
   "cell_type": "markdown",
   "metadata": {},
   "source": [
    "Вычислим точность обоих классификаторов"
   ]
  },
  {
   "cell_type": "code",
   "execution_count": 110,
   "metadata": {},
   "outputs": [
    {
     "data": {
      "text/plain": [
       "(0.9123783031988874, 0.9290681502086231)"
      ]
     },
     "execution_count": 110,
     "metadata": {},
     "output_type": "execute_result"
    }
   ],
   "source": [
    "ovoSGD.score(x_test, y_test), ovrSGD.score(x_test, y_test)"
   ]
  },
  {
   "cell_type": "code",
   "execution_count": 111,
   "metadata": {},
   "outputs": [],
   "source": [
    "ovo_pred, ovr_pred = ovoSGD.predict(x_test), ovrSGD.predict(x_test)"
   ]
  },
  {
   "attachments": {},
   "cell_type": "markdown",
   "metadata": {},
   "source": [
    "Результат немного лучше у OvR классификатора."
   ]
  },
  {
   "attachments": {},
   "cell_type": "markdown",
   "metadata": {},
   "source": [
    "Вычислим precision, recall и f1 скор"
   ]
  },
  {
   "cell_type": "code",
   "execution_count": 112,
   "metadata": {},
   "outputs": [
    {
     "data": {
      "text/plain": [
       "(0.9177022020442983, 0.9127177906946363, 0.9134691745994008)"
      ]
     },
     "execution_count": 112,
     "metadata": {},
     "output_type": "execute_result"
    }
   ],
   "source": [
    "precision_score(y_test, ovo_pred, average = 'macro'), recall_score(y_test, ovo_pred, average = 'macro'), f1_score(y_test, ovo_pred, average = 'macro') "
   ]
  },
  {
   "cell_type": "code",
   "execution_count": 113,
   "metadata": {},
   "outputs": [
    {
     "data": {
      "text/plain": [
       "(0.9335074283376649, 0.9303748763557012, 0.9304718643638772)"
      ]
     },
     "execution_count": 113,
     "metadata": {},
     "output_type": "execute_result"
    }
   ],
   "source": [
    "precision_score(y_test, ovr_pred, average = 'macro'), recall_score(y_test, ovr_pred, average = 'macro'), f1_score(y_test, ovr_pred, average = 'macro') "
   ]
  },
  {
   "attachments": {},
   "cell_type": "markdown",
   "metadata": {},
   "source": [
    "Снова же все результаты у OvR классификатора лучше"
   ]
  },
  {
   "attachments": {},
   "cell_type": "markdown",
   "metadata": {},
   "source": [
    "Посмотрим на матрицу неточностей. Сразу занулим главную диагональ. Она не информативна, т.к. точность у классификаторов довольно высокая."
   ]
  },
  {
   "cell_type": "code",
   "execution_count": 114,
   "metadata": {},
   "outputs": [],
   "source": [
    "ovo_cm, ovr_cm = confusion_matrix(y_test, ovo_pred), confusion_matrix(y_test, ovr_pred)\n",
    "np.fill_diagonal(ovo_cm, 0)\n",
    "np.fill_diagonal(ovr_cm, 0)"
   ]
  },
  {
   "attachments": {},
   "cell_type": "markdown",
   "metadata": {},
   "source": [
    "Опытным путём установлено (при передаче функции аргумента labels), что подписи соответствуют самим числам, а в документации сказано, что по вертикали в шапке записаны предсказания модели, а по горозинтали - истинные значения."
   ]
  },
  {
   "cell_type": "code",
   "execution_count": 115,
   "metadata": {},
   "outputs": [
    {
     "data": {
      "image/png": "[encoded data removed]",
      "text/plain": [
       "<Figure size 640x480 with 2 Axes>"
      ]
     },
     "metadata": {},
     "output_type": "display_data"
    }
   ],
   "source": [
    "sns.heatmap(ovo_cm);"
   ]
  },
  {
   "cell_type": "code",
   "execution_count": 116,
   "metadata": {},
   "outputs": [
    {
     "data": {
      "text/plain": [
       "array([[ 0,  0,  0,  0,  1,  0,  3,  0,  0,  1],\n",
       "       [ 0,  0,  0,  1,  2,  0,  0,  0, 13,  0],\n",
       "       [ 0,  5,  0,  1,  0,  0,  0,  1,  2,  2],\n",
       "       [ 0,  0,  0,  0,  0,  0,  0,  1,  1,  1],\n",
       "       [ 0,  1,  0,  0,  0,  0,  3,  0,  1,  6],\n",
       "       [ 0,  0,  0,  5,  3,  0,  2,  0,  1, 18],\n",
       "       [ 0,  2,  0,  0,  0,  0,  0,  0,  1,  0],\n",
       "       [ 0,  0,  0,  2,  5,  0,  0,  0,  3,  1],\n",
       "       [ 0,  4,  1,  5,  0,  1,  0,  2,  0,  5],\n",
       "       [ 0,  1,  0,  9,  1,  1,  0,  4,  3,  0]], dtype=int64)"
      ]
     },
     "execution_count": 116,
     "metadata": {},
     "output_type": "execute_result"
    }
   ],
   "source": [
    "ovo_cm"
   ]
  },
  {
   "attachments": {},
   "cell_type": "markdown",
   "metadata": {},
   "source": [
    "Опишем три самых ярких пятна на тепловой матрице:\n",
    "\n",
    "1. В 18 случаях модель давала предсказние 9 при факте 5.\n",
    "2. В 13 случаях модель давала предсказние 8 при факте 1.\n",
    "3. В 9 случаях модель давала предсказние 3 при факте 9."
   ]
  },
  {
   "cell_type": "code",
   "execution_count": 117,
   "metadata": {},
   "outputs": [
    {
     "data": {
      "text/plain": [
       "array([[ 0,  0,  0,  0,  1,  0,  0,  0,  0,  0],\n",
       "       [ 0,  0,  0,  2,  3,  0,  0,  0, 10,  0],\n",
       "       [ 0,  1,  0,  1,  0,  0,  0,  0,  4,  0],\n",
       "       [ 0,  1,  1,  0,  0,  0,  0,  1,  9,  1],\n",
       "       [ 0,  3,  0,  0,  0,  0,  2,  1,  1,  2],\n",
       "       [ 1,  1,  0,  2,  0,  0,  0,  1,  1,  7],\n",
       "       [ 0,  4,  0,  0,  1,  0,  0,  0,  6,  0],\n",
       "       [ 0,  0,  0,  2,  3,  0,  0,  0,  1,  1],\n",
       "       [ 0,  4,  0,  1,  1,  0,  0,  0,  0,  1],\n",
       "       [ 2,  5,  0,  2,  0,  0,  0,  3,  8,  0]], dtype=int64)"
      ]
     },
     "execution_count": 117,
     "metadata": {},
     "output_type": "execute_result"
    }
   ],
   "source": [
    "ovr_cm"
   ]
  },
  {
   "attachments": {},
   "cell_type": "markdown",
   "metadata": {},
   "source": [
    "У OvR классификатора ошибок ожидаемо меньше. Хотя он стал больше ошибаться и давать ответ 8 при факте 9."
   ]
  },
  {
   "attachments": {},
   "cell_type": "markdown",
   "metadata": {},
   "source": [
    "В целом классификатор OvR дал лучший результат."
   ]
  }
 ],
 "metadata": {
  "kernelspec": {
   "display_name": "Python 3",
   "language": "python",
   "name": "python3"
  },
  "language_info": {
   "codemirror_mode": {
    "name": "ipython",
    "version": 3
   },
   "file_extension": ".py",
   "mimetype": "text/x-python",
   "name": "python",
   "nbconvert_exporter": "python",
   "pygments_lexer": "ipython3",
   "version": "3.10.7"
  },
  "orig_nbformat": 4
 },
 "nbformat": 4,
 "nbformat_minor": 2
}
